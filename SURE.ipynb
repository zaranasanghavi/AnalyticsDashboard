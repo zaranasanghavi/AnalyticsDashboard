{
  "nbformat": 4,
  "nbformat_minor": 0,
  "metadata": {
    "colab": {
      "provenance": [],
      "authorship_tag": "ABX9TyODP1L5F1GmRjWLSk2400qf",
      "include_colab_link": true
    },
    "kernelspec": {
      "name": "python3",
      "display_name": "Python 3"
    },
    "language_info": {
      "name": "python"
    }
  },
  "cells": [
    {
      "cell_type": "markdown",
      "metadata": {
        "id": "view-in-github",
        "colab_type": "text"
      },
      "source": [
        "<a href=\"https://colab.research.google.com/github/zaranasanghavi/AnalyticsDashboard/blob/main/SURE.ipynb\" target=\"_parent\"><img src=\"https://colab.research.google.com/assets/colab-badge.svg\" alt=\"Open In Colab\"/></a>"
      ]
    },
    {
      "cell_type": "code",
      "source": [
        "!pip install PyMuPDF pdfplumber"
      ],
      "metadata": {
        "colab": {
          "base_uri": "https://localhost:8080/",
          "height": 0
        },
        "collapsed": true,
        "id": "T6rFY01wK11L",
        "outputId": "e64c8860-d2ac-42f7-ba5f-574468191c0b"
      },
      "execution_count": 2,
      "outputs": [
        {
          "output_type": "stream",
          "name": "stdout",
          "text": [
            "Collecting PyMuPDF\n",
            "  Downloading pymupdf-1.26.5-cp39-abi3-manylinux_2_28_x86_64.whl.metadata (3.4 kB)\n",
            "Collecting pdfplumber\n",
            "  Downloading pdfplumber-0.11.7-py3-none-any.whl.metadata (42 kB)\n",
            "\u001b[2K     \u001b[90m━━━━━━━━━━━━━━━━━━━━━━━━━━━━━━━━━━━━━━━━\u001b[0m \u001b[32m42.8/42.8 kB\u001b[0m \u001b[31m1.2 MB/s\u001b[0m eta \u001b[36m0:00:00\u001b[0m\n",
            "\u001b[?25hCollecting pdfminer.six==20250506 (from pdfplumber)\n",
            "  Downloading pdfminer_six-20250506-py3-none-any.whl.metadata (4.2 kB)\n",
            "Requirement already satisfied: Pillow>=9.1 in /usr/local/lib/python3.12/dist-packages (from pdfplumber) (11.3.0)\n",
            "Collecting pypdfium2>=4.18.0 (from pdfplumber)\n",
            "  Downloading pypdfium2-4.30.0-py3-none-manylinux_2_17_x86_64.manylinux2014_x86_64.whl.metadata (48 kB)\n",
            "\u001b[2K     \u001b[90m━━━━━━━━━━━━━━━━━━━━━━━━━━━━━━━━━━━━━━━━\u001b[0m \u001b[32m48.5/48.5 kB\u001b[0m \u001b[31m3.2 MB/s\u001b[0m eta \u001b[36m0:00:00\u001b[0m\n",
            "\u001b[?25hRequirement already satisfied: charset-normalizer>=2.0.0 in /usr/local/lib/python3.12/dist-packages (from pdfminer.six==20250506->pdfplumber) (3.4.4)\n",
            "Requirement already satisfied: cryptography>=36.0.0 in /usr/local/lib/python3.12/dist-packages (from pdfminer.six==20250506->pdfplumber) (43.0.3)\n",
            "Requirement already satisfied: cffi>=1.12 in /usr/local/lib/python3.12/dist-packages (from cryptography>=36.0.0->pdfminer.six==20250506->pdfplumber) (2.0.0)\n",
            "Requirement already satisfied: pycparser in /usr/local/lib/python3.12/dist-packages (from cffi>=1.12->cryptography>=36.0.0->pdfminer.six==20250506->pdfplumber) (2.23)\n",
            "Downloading pymupdf-1.26.5-cp39-abi3-manylinux_2_28_x86_64.whl (24.1 MB)\n",
            "\u001b[2K   \u001b[90m━━━━━━━━━━━━━━━━━━━━━━━━━━━━━━━━━━━━━━━━\u001b[0m \u001b[32m24.1/24.1 MB\u001b[0m \u001b[31m70.6 MB/s\u001b[0m eta \u001b[36m0:00:00\u001b[0m\n",
            "\u001b[?25hDownloading pdfplumber-0.11.7-py3-none-any.whl (60 kB)\n",
            "\u001b[2K   \u001b[90m━━━━━━━━━━━━━━━━━━━━━━━━━━━━━━━━━━━━━━━━\u001b[0m \u001b[32m60.0/60.0 kB\u001b[0m \u001b[31m3.9 MB/s\u001b[0m eta \u001b[36m0:00:00\u001b[0m\n",
            "\u001b[?25hDownloading pdfminer_six-20250506-py3-none-any.whl (5.6 MB)\n",
            "\u001b[2K   \u001b[90m━━━━━━━━━━━━━━━━━━━━━━━━━━━━━━━━━━━━━━━━\u001b[0m \u001b[32m5.6/5.6 MB\u001b[0m \u001b[31m87.3 MB/s\u001b[0m eta \u001b[36m0:00:00\u001b[0m\n",
            "\u001b[?25hDownloading pypdfium2-4.30.0-py3-none-manylinux_2_17_x86_64.manylinux2014_x86_64.whl (2.8 MB)\n",
            "\u001b[2K   \u001b[90m━━━━━━━━━━━━━━━━━━━━━━━━━━━━━━━━━━━━━━━━\u001b[0m \u001b[32m2.8/2.8 MB\u001b[0m \u001b[31m77.5 MB/s\u001b[0m eta \u001b[36m0:00:00\u001b[0m\n",
            "\u001b[?25hInstalling collected packages: pypdfium2, PyMuPDF, pdfminer.six, pdfplumber\n",
            "Successfully installed PyMuPDF-1.26.5 pdfminer.six-20250506 pdfplumber-0.11.7 pypdfium2-4.30.0\n"
          ]
        }
      ]
    },
    {
      "cell_type": "code",
      "execution_count": 4,
      "metadata": {
        "colab": {
          "base_uri": "https://localhost:8080/",
          "height": 0
        },
        "id": "R7bNgYz8KXi-",
        "outputId": "6c9cb391-546e-4152-c852-784ad28fbae6"
      },
      "outputs": [
        {
          "output_type": "stream",
          "name": "stdout",
          "text": [
            "Enter the name of the bank(bob, indusind, hdfc, sbi, icici): bob\n",
            "\n",
            "BOB Credit Card Extracted Data\n",
            "----------------------------------------\n",
            "Statement Date           : 01/10/2025\n",
            "Due Date                 : 20/10/2025\n",
            "Card Number              : XXXXXX********0534\n",
            "Billing Cycle            : 1st\n",
            "Credit Limit             : 10000\n",
            "----------------------------------------\n"
          ]
        }
      ],
      "source": [
        "import re\n",
        "import fitz\n",
        "import pdfplumber\n",
        "\n",
        "def clean_text_generic(value):\n",
        "    if not value:\n",
        "        return None\n",
        "    cleaned = re.sub(r'\\d{6,}', '', value)\n",
        "    cleaned = re.sub(r'\\d{1,2}/\\d{1,2}/\\d{2,4}', '', cleaned)\n",
        "    cleaned = re.sub(r'[:]+', ' ', cleaned)\n",
        "    cleaned = re.sub(r'\\s+', ' ', cleaned).strip()\n",
        "    return cleaned\n",
        "\n",
        "def clean_text_hdfc(value):\n",
        "    if not value:\n",
        "        return None\n",
        "    cleaned = re.sub(r'\\b(AAN|Statement Date|Total Dues|Minimum Amount Due|Payment Due Date|Statement for HDFC Bank Credit Card)\\b', '', value, flags=re.IGNORECASE)\n",
        "    cleaned = re.sub(r'\\d{1,2}/\\d{1,2}/\\d{2,4}', '', cleaned)\n",
        "    cleaned = re.sub(r'\\d{6,}', '', cleaned)\n",
        "    cleaned = re.sub(r'[:]+', ' ', cleaned)\n",
        "    cleaned = re.sub(r'\\s+', ' ', cleaned).strip()\n",
        "    return cleaned\n",
        "\n",
        "\n",
        "\n",
        "def extract_bob(pdf_path):\n",
        "    data = {}\n",
        "    doc = fitz.open(pdf_path)\n",
        "    text = \"\".join(page.get_text(\"text\") for page in doc)\n",
        "    doc.close()\n",
        "\n",
        "    statement_dates = re.findall(r\"Statement Date:\\s*(\\d{2}/\\d{2}/\\d{4})\", text)\n",
        "    if not statement_dates:\n",
        "        statement_dates = re.findall(r\"\\b\\d{2}/\\d{2}/\\d{4}\\b\", text)\n",
        "    data[\"Statement Date\"] = statement_dates[0] if statement_dates else None\n",
        "\n",
        "    due_dates = re.findall(r\"Due Date:\\s*(\\d{2}/\\d{2}/\\d{4})\", text)\n",
        "    if not due_dates and len(statement_dates) > 1:\n",
        "        due_dates = [statement_dates[1]]\n",
        "    data[\"Due Date\"] = due_dates[0] if due_dates else None\n",
        "\n",
        "    card_numbers = re.findall(r\"X{4,}\\*+\\d{4}|X{6,}\\d{4}\", text)\n",
        "    data[\"Card Number\"] = card_numbers[0] if card_numbers else None\n",
        "\n",
        "    billing_cycle = re.findall(r\"statement date is (\\d{1,2}(st|nd|rd|th)) of every month\", text, flags=re.IGNORECASE)\n",
        "    data[\"Billing Cycle\"] = billing_cycle[0][0] if billing_cycle else None\n",
        "\n",
        "    credit_limit = re.findall(r\"Credit Limit\\s*₹\\s*([\\d,]+\\.\\d{2}|[\\d,]+)\", text)\n",
        "    data[\"Credit Limit\"] = credit_limit[0].replace(\",\", \"\") if credit_limit else None\n",
        "\n",
        "    return data\n",
        "\n",
        "\n",
        "def extract_indusind(pdf_path):\n",
        "    data = {}\n",
        "    with pdfplumber.open(pdf_path) as pdf:\n",
        "        full_text = ''.join((page.extract_text() or '') + '\\n' for page in pdf.pages)\n",
        "\n",
        "    patterns = {\n",
        "        \"Account Holder Name\": r\"Purchases & Cash Transactions for\\s+(MR [A-Z\\s]+)\\s*\\(Credit Card No\",\n",
        "        \"Card Number\": r\"\\(Credit Card No\\.? (\\d{4}X{4,}X{4,}\\d{4,})\",\n",
        "        \"Purchases & Other Charges\": r\"Purchases & Other Charges\\s*₹?\\s*([\\d,]+\\.\\d{2})\",\n",
        "        \"Minimum Amount Due\": r\"Minimum Amount Due\\s*₹?\\s*([\\d,]+\\.\\d{2})\",\n",
        "        \"Card Variant\": r\"(Platinum|Gold|Titanium|Classic|Signature|World|Select|RuPay|Visa|MasterCard)\"\n",
        "    }\n",
        "\n",
        "    for key, pattern in patterns.items():\n",
        "        match = re.search(pattern, full_text, re.IGNORECASE)\n",
        "        value = match.group(1) if match else None\n",
        "        data[key] = clean_text_generic(value)\n",
        "\n",
        "    return data\n",
        "\n",
        "\n",
        "def extract_hdfc(pdf_path):\n",
        "    data = {}\n",
        "    with pdfplumber.open(pdf_path) as pdf:\n",
        "        text = '\\n'.join((page.extract_text() or '') for page in pdf.pages)\n",
        "\n",
        "    patterns = {\n",
        "        \"Account Holder Name\": r\"Name\\s*:\\s*([A-Z][A-Z ]+)\",\n",
        "        \"Email\": r\"Email\\s*:\\s*([\\w\\.-]+@[\\w\\.-]+)\",\n",
        "        \"Address\": r\"Address\\s*:\\s*(.*?)\\nGST\",\n",
        "        \"Card Number\": r\"Card No\\s*:\\s*([0-9Xx\\s-]+)\",\n",
        "        \"Available Cash Limit\": r\"Available Cash Limit\\s*\\n([\\d,]+)\",\n",
        "        \"Card Variant\": r\"(Visa|MasterCard|Platinum|Gold|Signature|Regalia|Business|Titanium|World|Select)\",\n",
        "    }\n",
        "\n",
        "    for key, pattern in patterns.items():\n",
        "        match = re.search(pattern, text, re.IGNORECASE | re.DOTALL)\n",
        "        value = match.group(1) if match else None\n",
        "        data[key] = clean_text_hdfc(value)\n",
        "\n",
        "    return data\n",
        "\n",
        "\n",
        "def extract_sbi(pdf_path):\n",
        "    with pdfplumber.open(pdf_path) as pdf:\n",
        "        full_text = '\\n'.join(page.extract_text() for page in pdf.pages)\n",
        "\n",
        "    patterns = {\n",
        "        \"Customer Name\": r\"([A-Z\\s]+)\\s+Credit Card Number\",\n",
        "        \"Card Number\": r\"Credit Card Number\\s+(XXXX\\s+XXXX\\s+XXXX\\s+\\w{2}\\d{2})\",\n",
        "        \"Total Amount Due\": r\"Total Amount Due\\s*\\( ` \\)\\s*([\\d,]+\\.\\d{2})\",\n",
        "        \"Credit Limit\": r\"Credit Limit\\s*\\( ` \\).*?([\\d,]+\\.\\d{2})\",\n",
        "        \"Available Credit Limit\": r\"Available Credit Limit\\s*\\( ` \\).*?([\\d,]+\\.\\d{2})\",\n",
        "        \"Available Cash Limit\": r\"Available Cash Limit\\s*\\( ` \\).*?([\\d,]+\\.\\d{2})\",\n",
        "    }\n",
        "\n",
        "    data = {}\n",
        "    for key, pattern in patterns.items():\n",
        "        match = re.search(pattern, full_text, re.MULTILINE | re.DOTALL)\n",
        "        data[key] = match.group(1).strip() if match else None\n",
        "\n",
        "    return data\n",
        "\n",
        "\n",
        "def extract_icici(pdf_path):\n",
        "    with pdfplumber.open(pdf_path) as pdf:\n",
        "        text = ''.join((page.extract_text() or '') for page in pdf.pages)\n",
        "\n",
        "    data = {}\n",
        "    data[\"Statement Date\"] = re.search(r'STATEMENT DATE[:\\s]*([A-Za-z0-9 ,]+)', text, re.IGNORECASE).group(1).strip() if re.search(r'STATEMENT DATE[:\\s]*([A-Za-z0-9 ,]+)', text, re.IGNORECASE) else None\n",
        "    data[\"Payment Due Date\"] = re.search(r'PAYMENT DUE DATE[:\\s]*([A-Za-z0-9 ,]+)', text, re.IGNORECASE).group(1).strip() if re.search(r'PAYMENT DUE DATE[:\\s]*([A-Za-z0-9 ,]+)', text, re.IGNORECASE) else None\n",
        "    data[\"Card Variant\"] = re.search(r'(Visa|MasterCard|Platinum|Gold|Signature|Titanium|Infinite|World|Select)', text, re.IGNORECASE).group(1) if re.search(r'(Visa|MasterCard|Platinum|Gold|Signature|Titanium|Infinite|World|Select)', text, re.IGNORECASE) else None\n",
        "    data[\"Card Number\"] = re.search(r'(\\d{4}X{6,8}\\d{2,4})', text).group(1) if re.search(r'(\\d{4}X{6,8}\\d{2,4})', text) else None\n",
        "    data[\"Invoice No\"] = re.search(r'Invoice No:\\s*₹?([\\d,]+\\.\\d{2}|\\d+)', text).group(1) if re.search(r'Invoice No:\\s*₹?([\\d,]+\\.\\d{2}|\\d+)', text) else None\n",
        "    data[\"State Code\"] = re.search(r'State Code:\\s*₹?([\\d,]+\\.\\d{2}|\\d+)', text).group(1) if re.search(r'State Code:\\s*₹?([\\d,]+\\.\\d{2}|\\d+)', text) else None\n",
        "\n",
        "    return data\n",
        "\n",
        "\n",
        "def extract_credit_card_data(pdf_path, bank_name):\n",
        "    bank_name = bank_name.lower()\n",
        "\n",
        "    match bank_name:\n",
        "        case \"bob\":\n",
        "            return extract_bob(pdf_path)\n",
        "        case \"indusind\":\n",
        "            return extract_indusind(pdf_path)\n",
        "        case \"hdfc\":\n",
        "            return extract_hdfc(pdf_path)\n",
        "        case \"sbi\":\n",
        "            return extract_sbi(pdf_path)\n",
        "        case \"icici\":\n",
        "            return extract_icici(pdf_path)\n",
        "        case _:\n",
        "            return {\"Error\": \"Bank not supported\"}\n",
        "\n",
        "\n",
        "def print_extracted_data(data, bank_name):\n",
        "    print(f\"\\n{bank_name.upper()} Credit Card Extracted Data\")\n",
        "    print(\"-\" * 40)\n",
        "    for k, v in data.items():\n",
        "        print(f\"{k:25}: {v if v else '(Not Found)'}\")\n",
        "    print(\"-\" * 40)\n",
        "\n",
        "\n",
        "if __name__ == \"__main__\":\n",
        "    bank = input(\"Enter the name of the bank(bob, indusind, hdfc, sbi, icici): \")  # Replace with: \"bob\", \"indusind\", \"hdfc\", \"sbi\", \"icici\"\n",
        "    pdf_file_path = f\"{bank}.pdf\"  # Match file name with bank\n",
        "\n",
        "    extracted_data = extract_credit_card_data(pdf_file_path, bank)\n",
        "    print_extracted_data(extracted_data, bank)\n"
      ]
    },
    {
      "cell_type": "code",
      "source": [
        "bank = input(\"Enter the name of the bank (bob, indusind, hdfc, sbi, icici): \")\n",
        "pdf_file_path = f\"{bank}.pdf\"  # Ensure your PDF file name matches, e.g., 'hdfc.pdf'\n",
        "\n",
        "extracted_data = extract_credit_card_data(pdf_file_path, bank)\n",
        "print_extracted_data(extracted_data, bank)"
      ],
      "metadata": {
        "colab": {
          "base_uri": "https://localhost:8080/",
          "height": 0
        },
        "id": "9UQrWiG7LHBW",
        "outputId": "efe37261-d50c-40d2-fe7f-56365277051f"
      },
      "execution_count": 5,
      "outputs": [
        {
          "output_type": "stream",
          "name": "stdout",
          "text": [
            "Enter the name of the bank (bob, indusind, hdfc, sbi, icici): indusind\n",
            "\n",
            "INDUSIND Credit Card Extracted Data\n",
            "----------------------------------------\n",
            "Account Holder Name      : MR NARESH SANGHVI\n",
            "Card Number              : 3561XXXXXXXX9396\n",
            "Purchases & Other Charges: 4,775.38\n",
            "Minimum Amount Due       : 100.00\n",
            "Card Variant             : PLATINUM\n",
            "----------------------------------------\n"
          ]
        }
      ]
    },
    {
      "cell_type": "code",
      "source": [
        "bank = input(\"Enter the name of the bank (bob, indusind, hdfc, sbi, icici): \")\n",
        "pdf_file_path = f\"{bank}.pdf\"  # Ensure your PDF file name matches, e.g., 'hdfc.pdf'\n",
        "\n",
        "extracted_data = extract_credit_card_data(pdf_file_path, bank)\n",
        "print_extracted_data(extracted_data, bank)"
      ],
      "metadata": {
        "colab": {
          "base_uri": "https://localhost:8080/",
          "height": 0
        },
        "id": "F-VTYT87LuO5",
        "outputId": "5ecc0b02-28e5-410a-d8d1-06654f2438d8"
      },
      "execution_count": 6,
      "outputs": [
        {
          "output_type": "stream",
          "name": "stdout",
          "text": [
            "Enter the name of the bank (bob, indusind, hdfc, sbi, icici): hdfc\n",
            "\n",
            "HDFC Credit Card Extracted Data\n",
            "----------------------------------------\n",
            "Account Holder Name      : NARESH BHKHALAL SANGHAVI\n",
            "Email                    : H.P.EXPORT501@GMAIL.COM\n",
            "Address                  : ROOM NO E/218 WALCHAND COMPLEX 90 FEET ROAD BHAYANDER WEST THANE- MHS\n",
            "Card Number              : 4572 62XX XXXX 6397 0\n",
            "Available Cash Limit     : 5,92,000\n",
            "Card Variant             : Visa\n",
            "----------------------------------------\n"
          ]
        }
      ]
    },
    {
      "cell_type": "code",
      "source": [
        "bank = input(\"Enter the name of the bank (bob, indusind, hdfc, sbi, icici): \")\n",
        "pdf_file_path = f\"{bank}.pdf\"  # Ensure your PDF file name matches, e.g., 'hdfc.pdf'\n",
        "\n",
        "extracted_data = extract_credit_card_data(pdf_file_path, bank)\n",
        "print_extracted_data(extracted_data, bank)"
      ],
      "metadata": {
        "colab": {
          "base_uri": "https://localhost:8080/",
          "height": 0
        },
        "id": "BmpE47K_LxM3",
        "outputId": "4fa085eb-84ef-4b20-b30b-5ae820ccd5c2"
      },
      "execution_count": 7,
      "outputs": [
        {
          "output_type": "stream",
          "name": "stdout",
          "text": [
            "Enter the name of the bank (bob, indusind, hdfc, sbi, icici): sbi\n",
            "\n",
            "SBI Credit Card Extracted Data\n",
            "----------------------------------------\n",
            "Customer Name            : NARESH SANGHVI\n",
            "Card Number              : XXXX XXXX XXXX XX92\n",
            "Total Amount Due         : 589.00\n",
            "Credit Limit             : 3,00,000.00\n",
            "Available Credit Limit   : 2,99,411.45\n",
            "Available Cash Limit     : 2,99,411.45\n",
            "----------------------------------------\n"
          ]
        }
      ]
    },
    {
      "cell_type": "code",
      "source": [
        "bank = input(\"Enter the name of the bank (bob, indusind, hdfc, sbi, icici): \")\n",
        "pdf_file_path = f\"{bank}.pdf\"  # Ensure your PDF file name matches, e.g., 'hdfc.pdf'\n",
        "\n",
        "extracted_data = extract_credit_card_data(pdf_file_path, bank)\n",
        "print_extracted_data(extracted_data, bank)"
      ],
      "metadata": {
        "colab": {
          "base_uri": "https://localhost:8080/",
          "height": 0
        },
        "id": "fTHxJPPxLzvy",
        "outputId": "63129e9f-fa57-4165-c556-8837eaf49c40"
      },
      "execution_count": 8,
      "outputs": [
        {
          "output_type": "stream",
          "name": "stdout",
          "text": [
            "Enter the name of the bank (bob, indusind, hdfc, sbi, icici): icici\n",
            "\n",
            "ICICI Credit Card Extracted Data\n",
            "----------------------------------------\n",
            "Statement Date           : January 18, 2023\n",
            "Payment Due Date         : February 5, 2023\n",
            "Card Variant             : Visa\n",
            "Card Number              : 4501XXXXXXXX2004\n",
            "Invoice No               : 1574180100773147\n",
            "State Code               : 27\n",
            "----------------------------------------\n"
          ]
        }
      ]
    }
  ]
}